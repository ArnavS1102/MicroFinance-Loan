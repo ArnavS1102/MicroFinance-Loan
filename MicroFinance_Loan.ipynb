{
 "cells": [
  {
   "cell_type": "code",
   "execution_count": 1,
   "metadata": {},
   "outputs": [],
   "source": [
    "import pandas as pd\n",
    "import numpy as np\n",
    "import matplotlib.pyplot as plt\n",
    "import seaborn as sns\n",
    "from sklearn.cluster import AgglomerativeClustering"
   ]
  },
  {
   "cell_type": "markdown",
   "metadata": {},
   "source": [
    "##### All the  \" -   \" values in the dataset were considered 0."
   ]
  },
  {
   "cell_type": "code",
   "execution_count": 2,
   "metadata": {},
   "outputs": [],
   "source": [
    "df = pd.read_csv(\"farmers_salary_transactions.csv\",na_values= \" -   \",index_col=\"Farmer No.\",thousands=',')"
   ]
  },
  {
   "cell_type": "markdown",
   "metadata": {},
   "source": [
    "#####  Total number of missing weekly payments ( weeks when the farmer's income was 0) were calculated. All the farmers with less than 13 weeks of payment were eliminated."
   ]
  },
  {
   "cell_type": "code",
   "execution_count": 3,
   "metadata": {},
   "outputs": [
    {
     "data": {
      "text/html": [
       "<div>\n",
       "<style scoped>\n",
       "    .dataframe tbody tr th:only-of-type {\n",
       "        vertical-align: middle;\n",
       "    }\n",
       "\n",
       "    .dataframe tbody tr th {\n",
       "        vertical-align: top;\n",
       "    }\n",
       "\n",
       "    .dataframe thead th {\n",
       "        text-align: right;\n",
       "    }\n",
       "</style>\n",
       "<table border=\"1\" class=\"dataframe\">\n",
       "  <thead>\n",
       "    <tr style=\"text-align: right;\">\n",
       "      <th></th>\n",
       "      <th>Farmer No.</th>\n",
       "      <th>Week1</th>\n",
       "      <th>Week2</th>\n",
       "      <th>Week3</th>\n",
       "      <th>Week4</th>\n",
       "      <th>Week5</th>\n",
       "      <th>Week6</th>\n",
       "      <th>Week7</th>\n",
       "      <th>Week8</th>\n",
       "      <th>Week9</th>\n",
       "      <th>...</th>\n",
       "      <th>Week44</th>\n",
       "      <th>Week45</th>\n",
       "      <th>Week46</th>\n",
       "      <th>Week47</th>\n",
       "      <th>Week48</th>\n",
       "      <th>Week49</th>\n",
       "      <th>Week50</th>\n",
       "      <th>Week51</th>\n",
       "      <th>Week52</th>\n",
       "      <th>MissingWeeks</th>\n",
       "    </tr>\n",
       "  </thead>\n",
       "  <tbody>\n",
       "    <tr>\n",
       "      <th>0</th>\n",
       "      <td>1</td>\n",
       "      <td>0.0</td>\n",
       "      <td>0.0</td>\n",
       "      <td>0.0</td>\n",
       "      <td>0.0</td>\n",
       "      <td>0.0</td>\n",
       "      <td>0.0</td>\n",
       "      <td>0.0</td>\n",
       "      <td>0.0</td>\n",
       "      <td>0.0</td>\n",
       "      <td>...</td>\n",
       "      <td>0.0</td>\n",
       "      <td>0.0</td>\n",
       "      <td>0.0</td>\n",
       "      <td>0.0</td>\n",
       "      <td>0.0</td>\n",
       "      <td>2918.0</td>\n",
       "      <td>1882.0</td>\n",
       "      <td>1939.0</td>\n",
       "      <td>1115.0</td>\n",
       "      <td>29.0</td>\n",
       "    </tr>\n",
       "    <tr>\n",
       "      <th>1</th>\n",
       "      <td>2</td>\n",
       "      <td>6487.0</td>\n",
       "      <td>10898.0</td>\n",
       "      <td>5133.0</td>\n",
       "      <td>3138.0</td>\n",
       "      <td>3056.0</td>\n",
       "      <td>5293.0</td>\n",
       "      <td>3170.0</td>\n",
       "      <td>2751.0</td>\n",
       "      <td>0.0</td>\n",
       "      <td>...</td>\n",
       "      <td>0.0</td>\n",
       "      <td>1931.0</td>\n",
       "      <td>122.0</td>\n",
       "      <td>0.0</td>\n",
       "      <td>2704.0</td>\n",
       "      <td>7147.0</td>\n",
       "      <td>5125.0</td>\n",
       "      <td>2589.0</td>\n",
       "      <td>917.0</td>\n",
       "      <td>8.0</td>\n",
       "    </tr>\n",
       "    <tr>\n",
       "      <th>2</th>\n",
       "      <td>3</td>\n",
       "      <td>1289.0</td>\n",
       "      <td>1392.0</td>\n",
       "      <td>1789.0</td>\n",
       "      <td>1319.0</td>\n",
       "      <td>662.0</td>\n",
       "      <td>2290.0</td>\n",
       "      <td>1994.0</td>\n",
       "      <td>2527.0</td>\n",
       "      <td>1172.0</td>\n",
       "      <td>...</td>\n",
       "      <td>2306.0</td>\n",
       "      <td>1206.0</td>\n",
       "      <td>1417.0</td>\n",
       "      <td>1310.0</td>\n",
       "      <td>2153.0</td>\n",
       "      <td>1771.0</td>\n",
       "      <td>3527.0</td>\n",
       "      <td>3665.0</td>\n",
       "      <td>3110.0</td>\n",
       "      <td>7.0</td>\n",
       "    </tr>\n",
       "    <tr>\n",
       "      <th>3</th>\n",
       "      <td>4</td>\n",
       "      <td>3844.0</td>\n",
       "      <td>4256.0</td>\n",
       "      <td>3716.0</td>\n",
       "      <td>4511.0</td>\n",
       "      <td>5209.0</td>\n",
       "      <td>7299.0</td>\n",
       "      <td>9899.0</td>\n",
       "      <td>7440.0</td>\n",
       "      <td>1915.0</td>\n",
       "      <td>...</td>\n",
       "      <td>26493.0</td>\n",
       "      <td>1217.0</td>\n",
       "      <td>2791.0</td>\n",
       "      <td>0.0</td>\n",
       "      <td>5203.0</td>\n",
       "      <td>7938.0</td>\n",
       "      <td>1909.0</td>\n",
       "      <td>850.0</td>\n",
       "      <td>546.0</td>\n",
       "      <td>2.0</td>\n",
       "    </tr>\n",
       "    <tr>\n",
       "      <th>4</th>\n",
       "      <td>5</td>\n",
       "      <td>3428.0</td>\n",
       "      <td>2346.0</td>\n",
       "      <td>2419.0</td>\n",
       "      <td>2110.0</td>\n",
       "      <td>1569.0</td>\n",
       "      <td>2110.0</td>\n",
       "      <td>1951.0</td>\n",
       "      <td>936.0</td>\n",
       "      <td>169.0</td>\n",
       "      <td>...</td>\n",
       "      <td>1216.0</td>\n",
       "      <td>657.0</td>\n",
       "      <td>225.0</td>\n",
       "      <td>357.0</td>\n",
       "      <td>0.0</td>\n",
       "      <td>0.0</td>\n",
       "      <td>181.0</td>\n",
       "      <td>189.0</td>\n",
       "      <td>76.0</td>\n",
       "      <td>10.0</td>\n",
       "    </tr>\n",
       "    <tr>\n",
       "      <th>...</th>\n",
       "      <td>...</td>\n",
       "      <td>...</td>\n",
       "      <td>...</td>\n",
       "      <td>...</td>\n",
       "      <td>...</td>\n",
       "      <td>...</td>\n",
       "      <td>...</td>\n",
       "      <td>...</td>\n",
       "      <td>...</td>\n",
       "      <td>...</td>\n",
       "      <td>...</td>\n",
       "      <td>...</td>\n",
       "      <td>...</td>\n",
       "      <td>...</td>\n",
       "      <td>...</td>\n",
       "      <td>...</td>\n",
       "      <td>...</td>\n",
       "      <td>...</td>\n",
       "      <td>...</td>\n",
       "      <td>...</td>\n",
       "      <td>...</td>\n",
       "    </tr>\n",
       "    <tr>\n",
       "      <th>1246</th>\n",
       "      <td>1271</td>\n",
       "      <td>0.0</td>\n",
       "      <td>706.0</td>\n",
       "      <td>3507.0</td>\n",
       "      <td>908.0</td>\n",
       "      <td>1008.0</td>\n",
       "      <td>794.0</td>\n",
       "      <td>336.0</td>\n",
       "      <td>170.0</td>\n",
       "      <td>0.0</td>\n",
       "      <td>...</td>\n",
       "      <td>5160.0</td>\n",
       "      <td>5899.0</td>\n",
       "      <td>12465.0</td>\n",
       "      <td>13900.0</td>\n",
       "      <td>14840.0</td>\n",
       "      <td>10741.0</td>\n",
       "      <td>12040.0</td>\n",
       "      <td>9241.0</td>\n",
       "      <td>10365.0</td>\n",
       "      <td>18.0</td>\n",
       "    </tr>\n",
       "    <tr>\n",
       "      <th>1247</th>\n",
       "      <td>1272</td>\n",
       "      <td>174233.0</td>\n",
       "      <td>90237.0</td>\n",
       "      <td>65438.0</td>\n",
       "      <td>23628.0</td>\n",
       "      <td>2536.0</td>\n",
       "      <td>3241.0</td>\n",
       "      <td>2550.0</td>\n",
       "      <td>1662.0</td>\n",
       "      <td>977.0</td>\n",
       "      <td>...</td>\n",
       "      <td>2736.0</td>\n",
       "      <td>2681.0</td>\n",
       "      <td>4051.0</td>\n",
       "      <td>2703.0</td>\n",
       "      <td>3651.0</td>\n",
       "      <td>4974.0</td>\n",
       "      <td>2088.0</td>\n",
       "      <td>2112.0</td>\n",
       "      <td>3358.0</td>\n",
       "      <td>2.0</td>\n",
       "    </tr>\n",
       "    <tr>\n",
       "      <th>1248</th>\n",
       "      <td>1273</td>\n",
       "      <td>9490.0</td>\n",
       "      <td>18144.0</td>\n",
       "      <td>1728.0</td>\n",
       "      <td>1573.0</td>\n",
       "      <td>0.0</td>\n",
       "      <td>0.0</td>\n",
       "      <td>1564.0</td>\n",
       "      <td>655.0</td>\n",
       "      <td>0.0</td>\n",
       "      <td>...</td>\n",
       "      <td>0.0</td>\n",
       "      <td>0.0</td>\n",
       "      <td>0.0</td>\n",
       "      <td>0.0</td>\n",
       "      <td>0.0</td>\n",
       "      <td>0.0</td>\n",
       "      <td>0.0</td>\n",
       "      <td>0.0</td>\n",
       "      <td>0.0</td>\n",
       "      <td>24.0</td>\n",
       "    </tr>\n",
       "    <tr>\n",
       "      <th>1249</th>\n",
       "      <td>1274</td>\n",
       "      <td>40052.0</td>\n",
       "      <td>16401.0</td>\n",
       "      <td>6779.0</td>\n",
       "      <td>24153.0</td>\n",
       "      <td>26360.0</td>\n",
       "      <td>5329.0</td>\n",
       "      <td>4225.0</td>\n",
       "      <td>696.0</td>\n",
       "      <td>0.0</td>\n",
       "      <td>...</td>\n",
       "      <td>0.0</td>\n",
       "      <td>0.0</td>\n",
       "      <td>0.0</td>\n",
       "      <td>0.0</td>\n",
       "      <td>13824.0</td>\n",
       "      <td>16870.0</td>\n",
       "      <td>15624.0</td>\n",
       "      <td>5414.0</td>\n",
       "      <td>9373.0</td>\n",
       "      <td>34.0</td>\n",
       "    </tr>\n",
       "    <tr>\n",
       "      <th>1250</th>\n",
       "      <td>1275</td>\n",
       "      <td>250.0</td>\n",
       "      <td>25455.0</td>\n",
       "      <td>196474.0</td>\n",
       "      <td>169923.0</td>\n",
       "      <td>113562.0</td>\n",
       "      <td>234901.0</td>\n",
       "      <td>161103.0</td>\n",
       "      <td>147797.0</td>\n",
       "      <td>24954.0</td>\n",
       "      <td>...</td>\n",
       "      <td>9303.0</td>\n",
       "      <td>0.0</td>\n",
       "      <td>0.0</td>\n",
       "      <td>0.0</td>\n",
       "      <td>52732.0</td>\n",
       "      <td>42008.0</td>\n",
       "      <td>30330.0</td>\n",
       "      <td>28669.0</td>\n",
       "      <td>119138.0</td>\n",
       "      <td>10.0</td>\n",
       "    </tr>\n",
       "  </tbody>\n",
       "</table>\n",
       "<p>1251 rows × 54 columns</p>\n",
       "</div>"
      ],
      "text/plain": [
       "      Farmer No.     Week1    Week2     Week3     Week4     Week5     Week6  \\\n",
       "0              1       0.0      0.0       0.0       0.0       0.0       0.0   \n",
       "1              2    6487.0  10898.0    5133.0    3138.0    3056.0    5293.0   \n",
       "2              3    1289.0   1392.0    1789.0    1319.0     662.0    2290.0   \n",
       "3              4    3844.0   4256.0    3716.0    4511.0    5209.0    7299.0   \n",
       "4              5    3428.0   2346.0    2419.0    2110.0    1569.0    2110.0   \n",
       "...          ...       ...      ...       ...       ...       ...       ...   \n",
       "1246        1271       0.0    706.0    3507.0     908.0    1008.0     794.0   \n",
       "1247        1272  174233.0  90237.0   65438.0   23628.0    2536.0    3241.0   \n",
       "1248        1273    9490.0  18144.0    1728.0    1573.0       0.0       0.0   \n",
       "1249        1274   40052.0  16401.0    6779.0   24153.0   26360.0    5329.0   \n",
       "1250        1275     250.0  25455.0  196474.0  169923.0  113562.0  234901.0   \n",
       "\n",
       "         Week7     Week8    Week9  ...   Week44  Week45   Week46   Week47  \\\n",
       "0          0.0       0.0      0.0  ...      0.0     0.0      0.0      0.0   \n",
       "1       3170.0    2751.0      0.0  ...      0.0  1931.0    122.0      0.0   \n",
       "2       1994.0    2527.0   1172.0  ...   2306.0  1206.0   1417.0   1310.0   \n",
       "3       9899.0    7440.0   1915.0  ...  26493.0  1217.0   2791.0      0.0   \n",
       "4       1951.0     936.0    169.0  ...   1216.0   657.0    225.0    357.0   \n",
       "...        ...       ...      ...  ...      ...     ...      ...      ...   \n",
       "1246     336.0     170.0      0.0  ...   5160.0  5899.0  12465.0  13900.0   \n",
       "1247    2550.0    1662.0    977.0  ...   2736.0  2681.0   4051.0   2703.0   \n",
       "1248    1564.0     655.0      0.0  ...      0.0     0.0      0.0      0.0   \n",
       "1249    4225.0     696.0      0.0  ...      0.0     0.0      0.0      0.0   \n",
       "1250  161103.0  147797.0  24954.0  ...   9303.0     0.0      0.0      0.0   \n",
       "\n",
       "       Week48   Week49   Week50   Week51    Week52  MissingWeeks  \n",
       "0         0.0   2918.0   1882.0   1939.0    1115.0          29.0  \n",
       "1      2704.0   7147.0   5125.0   2589.0     917.0           8.0  \n",
       "2      2153.0   1771.0   3527.0   3665.0    3110.0           7.0  \n",
       "3      5203.0   7938.0   1909.0    850.0     546.0           2.0  \n",
       "4         0.0      0.0    181.0    189.0      76.0          10.0  \n",
       "...       ...      ...      ...      ...       ...           ...  \n",
       "1246  14840.0  10741.0  12040.0   9241.0   10365.0          18.0  \n",
       "1247   3651.0   4974.0   2088.0   2112.0    3358.0           2.0  \n",
       "1248      0.0      0.0      0.0      0.0       0.0          24.0  \n",
       "1249  13824.0  16870.0  15624.0   5414.0    9373.0          34.0  \n",
       "1250  52732.0  42008.0  30330.0  28669.0  119138.0          10.0  \n",
       "\n",
       "[1251 rows x 54 columns]"
      ]
     },
     "execution_count": 3,
     "metadata": {},
     "output_type": "execute_result"
    }
   ],
   "source": [
    "df.reset_index(level=0, inplace=True)\n",
    "for i in range(0,1275):\n",
    "    df.loc[i,'MissingWeeks'] =  df.loc[i].isna().sum()\n",
    "for i in range(0,1275):\n",
    "    if(df.loc[i,'MissingWeeks']>39):\n",
    "        df.drop(i,axis=0,inplace=True)\n",
    "df.reset_index(level=0, inplace=True)\n",
    "df.drop(\"index\",axis=1,inplace=True)\n",
    "df=df.fillna(0)\n",
    "df"
   ]
  },
  {
   "cell_type": "markdown",
   "metadata": {},
   "source": [
    "##### As most banks calculate a credit score for each applicant to decide whether he/she is eligible for the loan or not, a similar strategy was devised. The mean weekly income over a window of 13 weeks and the average number of non payments in 13 weeks for each farmer were calculated."
   ]
  },
  {
   "cell_type": "code",
   "execution_count": 4,
   "metadata": {},
   "outputs": [],
   "source": [
    "li_final=[]\n",
    "li_mean=[]\n",
    "li_std=[]\n",
    "li_farm=[]\n",
    "for i in range(0,1251):\n",
    "    x_mean=df.loc[i,\"Week1\":\"Week52\"].rolling(window=13,center=False).mean()\n",
    "    x_mean.dropna(inplace=True)\n",
    "    x_mean=x_mean.tolist()\n",
    "    m= sum(x_mean) / len(x_mean)\n",
    "    li_mean.append(m)\n",
    "    li_farm.append(df.loc[i,\"Farmer No.\"])\n",
    "new_df=pd.DataFrame()\n",
    "new_df[\"Mean\"]=li_mean\n",
    "new_df[\"Farmer No.\"]=li_farm\n",
    "for i in range(0,1251):\n",
    "    li=[]\n",
    "    for j in range(1,41):\n",
    "        c=0\n",
    "        var1 = \"Week{weekno}\".format(weekno=j)\n",
    "        var2 = \"Week{weekno}\".format(weekno=j+12)\n",
    "        for k in df.loc[i,var1:var2]:\n",
    "            if(k==0):\n",
    "                c=c+1\n",
    "        li.append(c)\n",
    "    li_final.append(sum(li)/len(li))\n",
    "li_final\n",
    "new_df[\"Zeros\"]=li_final\n",
    "new_temp=new_df.copy()\n",
    "new_temp.drop(\"Farmer No.\",axis=1,inplace=True)"
   ]
  },
  {
   "cell_type": "code",
   "execution_count": 5,
   "metadata": {},
   "outputs": [
    {
     "data": {
      "text/html": [
       "<div>\n",
       "<style scoped>\n",
       "    .dataframe tbody tr th:only-of-type {\n",
       "        vertical-align: middle;\n",
       "    }\n",
       "\n",
       "    .dataframe tbody tr th {\n",
       "        vertical-align: top;\n",
       "    }\n",
       "\n",
       "    .dataframe thead th {\n",
       "        text-align: right;\n",
       "    }\n",
       "</style>\n",
       "<table border=\"1\" class=\"dataframe\">\n",
       "  <thead>\n",
       "    <tr style=\"text-align: right;\">\n",
       "      <th></th>\n",
       "      <th>Mean</th>\n",
       "      <th>Zeros</th>\n",
       "    </tr>\n",
       "  </thead>\n",
       "  <tbody>\n",
       "    <tr>\n",
       "      <th>0</th>\n",
       "      <td>9181.186538</td>\n",
       "      <td>6.650</td>\n",
       "    </tr>\n",
       "    <tr>\n",
       "      <th>1</th>\n",
       "      <td>11496.648077</td>\n",
       "      <td>1.875</td>\n",
       "    </tr>\n",
       "    <tr>\n",
       "      <th>2</th>\n",
       "      <td>8015.492308</td>\n",
       "      <td>1.925</td>\n",
       "    </tr>\n",
       "    <tr>\n",
       "      <th>3</th>\n",
       "      <td>87371.017308</td>\n",
       "      <td>0.150</td>\n",
       "    </tr>\n",
       "    <tr>\n",
       "      <th>4</th>\n",
       "      <td>1356.207692</td>\n",
       "      <td>2.475</td>\n",
       "    </tr>\n",
       "    <tr>\n",
       "      <th>...</th>\n",
       "      <td>...</td>\n",
       "      <td>...</td>\n",
       "    </tr>\n",
       "    <tr>\n",
       "      <th>1246</th>\n",
       "      <td>1540.178846</td>\n",
       "      <td>4.900</td>\n",
       "    </tr>\n",
       "    <tr>\n",
       "      <th>1247</th>\n",
       "      <td>39650.913462</td>\n",
       "      <td>0.275</td>\n",
       "    </tr>\n",
       "    <tr>\n",
       "      <th>1248</th>\n",
       "      <td>11140.801923</td>\n",
       "      <td>5.000</td>\n",
       "    </tr>\n",
       "    <tr>\n",
       "      <th>1249</th>\n",
       "      <td>2619.236538</td>\n",
       "      <td>9.850</td>\n",
       "    </tr>\n",
       "    <tr>\n",
       "      <th>1250</th>\n",
       "      <td>75733.851923</td>\n",
       "      <td>2.475</td>\n",
       "    </tr>\n",
       "  </tbody>\n",
       "</table>\n",
       "<p>1251 rows × 2 columns</p>\n",
       "</div>"
      ],
      "text/plain": [
       "              Mean  Zeros\n",
       "0      9181.186538  6.650\n",
       "1     11496.648077  1.875\n",
       "2      8015.492308  1.925\n",
       "3     87371.017308  0.150\n",
       "4      1356.207692  2.475\n",
       "...            ...    ...\n",
       "1246   1540.178846  4.900\n",
       "1247  39650.913462  0.275\n",
       "1248  11140.801923  5.000\n",
       "1249   2619.236538  9.850\n",
       "1250  75733.851923  2.475\n",
       "\n",
       "[1251 rows x 2 columns]"
      ]
     },
     "execution_count": 5,
     "metadata": {},
     "output_type": "execute_result"
    }
   ],
   "source": [
    "new_temp"
   ]
  },
  {
   "cell_type": "markdown",
   "metadata": {},
   "source": [
    "##### Hierarchical Clustering was applied considring all the relevant factors. Initially only 2 clusters were implemented (i.e for eligible and ineligible applicants). Agglomerative form was considered because applicants alike in their income and non payments need to be coalesced together."
   ]
  },
  {
   "cell_type": "code",
   "execution_count": 6,
   "metadata": {},
   "outputs": [],
   "source": [
    "cluster = AgglomerativeClustering(n_clusters=2, affinity='euclidean', linkage='ward')  \n",
    "new_df[\"Eligibility\"]=cluster.fit_predict(new_temp)"
   ]
  },
  {
   "cell_type": "code",
   "execution_count": 7,
   "metadata": {},
   "outputs": [
    {
     "data": {
      "text/html": [
       "<div>\n",
       "<style scoped>\n",
       "    .dataframe tbody tr th:only-of-type {\n",
       "        vertical-align: middle;\n",
       "    }\n",
       "\n",
       "    .dataframe tbody tr th {\n",
       "        vertical-align: top;\n",
       "    }\n",
       "\n",
       "    .dataframe thead th {\n",
       "        text-align: right;\n",
       "    }\n",
       "</style>\n",
       "<table border=\"1\" class=\"dataframe\">\n",
       "  <thead>\n",
       "    <tr style=\"text-align: right;\">\n",
       "      <th></th>\n",
       "      <th>Mean</th>\n",
       "      <th>Farmer No.</th>\n",
       "      <th>Zeros</th>\n",
       "      <th>Eligibility</th>\n",
       "    </tr>\n",
       "  </thead>\n",
       "  <tbody>\n",
       "    <tr>\n",
       "      <th>0</th>\n",
       "      <td>9181.186538</td>\n",
       "      <td>1</td>\n",
       "      <td>6.650</td>\n",
       "      <td>0</td>\n",
       "    </tr>\n",
       "    <tr>\n",
       "      <th>1</th>\n",
       "      <td>11496.648077</td>\n",
       "      <td>2</td>\n",
       "      <td>1.875</td>\n",
       "      <td>0</td>\n",
       "    </tr>\n",
       "    <tr>\n",
       "      <th>2</th>\n",
       "      <td>8015.492308</td>\n",
       "      <td>3</td>\n",
       "      <td>1.925</td>\n",
       "      <td>0</td>\n",
       "    </tr>\n",
       "    <tr>\n",
       "      <th>3</th>\n",
       "      <td>87371.017308</td>\n",
       "      <td>4</td>\n",
       "      <td>0.150</td>\n",
       "      <td>0</td>\n",
       "    </tr>\n",
       "    <tr>\n",
       "      <th>4</th>\n",
       "      <td>1356.207692</td>\n",
       "      <td>5</td>\n",
       "      <td>2.475</td>\n",
       "      <td>0</td>\n",
       "    </tr>\n",
       "    <tr>\n",
       "      <th>...</th>\n",
       "      <td>...</td>\n",
       "      <td>...</td>\n",
       "      <td>...</td>\n",
       "      <td>...</td>\n",
       "    </tr>\n",
       "    <tr>\n",
       "      <th>1246</th>\n",
       "      <td>1540.178846</td>\n",
       "      <td>1271</td>\n",
       "      <td>4.900</td>\n",
       "      <td>0</td>\n",
       "    </tr>\n",
       "    <tr>\n",
       "      <th>1247</th>\n",
       "      <td>39650.913462</td>\n",
       "      <td>1272</td>\n",
       "      <td>0.275</td>\n",
       "      <td>0</td>\n",
       "    </tr>\n",
       "    <tr>\n",
       "      <th>1248</th>\n",
       "      <td>11140.801923</td>\n",
       "      <td>1273</td>\n",
       "      <td>5.000</td>\n",
       "      <td>0</td>\n",
       "    </tr>\n",
       "    <tr>\n",
       "      <th>1249</th>\n",
       "      <td>2619.236538</td>\n",
       "      <td>1274</td>\n",
       "      <td>9.850</td>\n",
       "      <td>0</td>\n",
       "    </tr>\n",
       "    <tr>\n",
       "      <th>1250</th>\n",
       "      <td>75733.851923</td>\n",
       "      <td>1275</td>\n",
       "      <td>2.475</td>\n",
       "      <td>0</td>\n",
       "    </tr>\n",
       "  </tbody>\n",
       "</table>\n",
       "<p>1251 rows × 4 columns</p>\n",
       "</div>"
      ],
      "text/plain": [
       "              Mean  Farmer No.  Zeros  Eligibility\n",
       "0      9181.186538           1  6.650            0\n",
       "1     11496.648077           2  1.875            0\n",
       "2      8015.492308           3  1.925            0\n",
       "3     87371.017308           4  0.150            0\n",
       "4      1356.207692           5  2.475            0\n",
       "...            ...         ...    ...          ...\n",
       "1246   1540.178846        1271  4.900            0\n",
       "1247  39650.913462        1272  0.275            0\n",
       "1248  11140.801923        1273  5.000            0\n",
       "1249   2619.236538        1274  9.850            0\n",
       "1250  75733.851923        1275  2.475            0\n",
       "\n",
       "[1251 rows x 4 columns]"
      ]
     },
     "execution_count": 7,
     "metadata": {},
     "output_type": "execute_result"
    }
   ],
   "source": [
    "new_df"
   ]
  },
  {
   "cell_type": "code",
   "execution_count": 8,
   "metadata": {},
   "outputs": [
    {
     "data": {
      "image/png": "[encoded data removed]",
      "text/plain": [
       "<Figure size 413.875x360 with 1 Axes>"
      ]
     },
     "metadata": {
      "needs_background": "light"
     },
     "output_type": "display_data"
    }
   ],
   "source": [
    "plot = sns.lmplot(data=new_df, x='Zeros', y='Mean', hue='Eligibility',fit_reg=False, legend=True, legend_out=True)"
   ]
  },
  {
   "cell_type": "markdown",
   "metadata": {},
   "source": [
    "##### Dendogram for this cluster was plotted which states the ideal number of clusters to be used is 3. "
   ]
  },
  {
   "cell_type": "code",
   "execution_count": 10,
   "metadata": {},
   "outputs": [
    {
     "data": {
      "image/png": "[encoded data removed]",
      "text/plain": [
       "<Figure size 432x288 with 1 Axes>"
      ]
     },
     "metadata": {
      "needs_background": "light"
     },
     "output_type": "display_data"
    }
   ],
   "source": [
    "import scipy.cluster.hierarchy as sch\n",
    "X = new_temp.iloc[:, [0, 1]].values\n",
    "dendrogram=sch.dendrogram(sch.linkage(X,method = 'ward'))\n",
    "plt.title('Dendrogram')\n",
    "plt.xlabel('Observation Points')\n",
    "plt.ylabel('Euclidean Distance')\n",
    "plt.show()"
   ]
  },
  {
   "cell_type": "markdown",
   "metadata": {},
   "source": [
    "##### Another agglomerative clustering model with 3 clusters was implemented."
   ]
  },
  {
   "cell_type": "code",
   "execution_count": 9,
   "metadata": {},
   "outputs": [],
   "source": [
    "cluster = AgglomerativeClustering(n_clusters=3, affinity='euclidean', linkage='ward')  \n",
    "new_df[\"Eligibility\"]=cluster.fit_predict(new_temp)"
   ]
  },
  {
   "cell_type": "code",
   "execution_count": 10,
   "metadata": {},
   "outputs": [
    {
     "data": {
      "text/html": [
       "<div>\n",
       "<style scoped>\n",
       "    .dataframe tbody tr th:only-of-type {\n",
       "        vertical-align: middle;\n",
       "    }\n",
       "\n",
       "    .dataframe tbody tr th {\n",
       "        vertical-align: top;\n",
       "    }\n",
       "\n",
       "    .dataframe thead th {\n",
       "        text-align: right;\n",
       "    }\n",
       "</style>\n",
       "<table border=\"1\" class=\"dataframe\">\n",
       "  <thead>\n",
       "    <tr style=\"text-align: right;\">\n",
       "      <th></th>\n",
       "      <th>Mean</th>\n",
       "      <th>Farmer No.</th>\n",
       "      <th>Zeros</th>\n",
       "      <th>Eligibility</th>\n",
       "    </tr>\n",
       "  </thead>\n",
       "  <tbody>\n",
       "    <tr>\n",
       "      <th>0</th>\n",
       "      <td>9181.186538</td>\n",
       "      <td>1</td>\n",
       "      <td>6.650</td>\n",
       "      <td>2</td>\n",
       "    </tr>\n",
       "    <tr>\n",
       "      <th>1</th>\n",
       "      <td>11496.648077</td>\n",
       "      <td>2</td>\n",
       "      <td>1.875</td>\n",
       "      <td>2</td>\n",
       "    </tr>\n",
       "    <tr>\n",
       "      <th>2</th>\n",
       "      <td>8015.492308</td>\n",
       "      <td>3</td>\n",
       "      <td>1.925</td>\n",
       "      <td>2</td>\n",
       "    </tr>\n",
       "    <tr>\n",
       "      <th>3</th>\n",
       "      <td>87371.017308</td>\n",
       "      <td>4</td>\n",
       "      <td>0.150</td>\n",
       "      <td>1</td>\n",
       "    </tr>\n",
       "    <tr>\n",
       "      <th>4</th>\n",
       "      <td>1356.207692</td>\n",
       "      <td>5</td>\n",
       "      <td>2.475</td>\n",
       "      <td>2</td>\n",
       "    </tr>\n",
       "    <tr>\n",
       "      <th>...</th>\n",
       "      <td>...</td>\n",
       "      <td>...</td>\n",
       "      <td>...</td>\n",
       "      <td>...</td>\n",
       "    </tr>\n",
       "    <tr>\n",
       "      <th>1246</th>\n",
       "      <td>1540.178846</td>\n",
       "      <td>1271</td>\n",
       "      <td>4.900</td>\n",
       "      <td>2</td>\n",
       "    </tr>\n",
       "    <tr>\n",
       "      <th>1247</th>\n",
       "      <td>39650.913462</td>\n",
       "      <td>1272</td>\n",
       "      <td>0.275</td>\n",
       "      <td>1</td>\n",
       "    </tr>\n",
       "    <tr>\n",
       "      <th>1248</th>\n",
       "      <td>11140.801923</td>\n",
       "      <td>1273</td>\n",
       "      <td>5.000</td>\n",
       "      <td>2</td>\n",
       "    </tr>\n",
       "    <tr>\n",
       "      <th>1249</th>\n",
       "      <td>2619.236538</td>\n",
       "      <td>1274</td>\n",
       "      <td>9.850</td>\n",
       "      <td>2</td>\n",
       "    </tr>\n",
       "    <tr>\n",
       "      <th>1250</th>\n",
       "      <td>75733.851923</td>\n",
       "      <td>1275</td>\n",
       "      <td>2.475</td>\n",
       "      <td>1</td>\n",
       "    </tr>\n",
       "  </tbody>\n",
       "</table>\n",
       "<p>1251 rows × 4 columns</p>\n",
       "</div>"
      ],
      "text/plain": [
       "              Mean  Farmer No.  Zeros  Eligibility\n",
       "0      9181.186538           1  6.650            2\n",
       "1     11496.648077           2  1.875            2\n",
       "2      8015.492308           3  1.925            2\n",
       "3     87371.017308           4  0.150            1\n",
       "4      1356.207692           5  2.475            2\n",
       "...            ...         ...    ...          ...\n",
       "1246   1540.178846        1271  4.900            2\n",
       "1247  39650.913462        1272  0.275            1\n",
       "1248  11140.801923        1273  5.000            2\n",
       "1249   2619.236538        1274  9.850            2\n",
       "1250  75733.851923        1275  2.475            1\n",
       "\n",
       "[1251 rows x 4 columns]"
      ]
     },
     "execution_count": 10,
     "metadata": {},
     "output_type": "execute_result"
    }
   ],
   "source": [
    "new_df"
   ]
  },
  {
   "cell_type": "code",
   "execution_count": 11,
   "metadata": {},
   "outputs": [
    {
     "data": {
      "image/png": "[encoded data removed]",
      "text/plain": [
       "<Figure size 413.875x360 with 1 Axes>"
      ]
     },
     "metadata": {
      "needs_background": "light"
     },
     "output_type": "display_data"
    }
   ],
   "source": [
    "plot = sns.lmplot(data=new_df, x='Zeros', y='Mean', hue='Eligibility',fit_reg=False, legend=True, legend_out=True)"
   ]
  },
  {
   "cell_type": "markdown",
   "metadata": {},
   "source": [
    "##### Some important calculations were done to further tweak the clustering results."
   ]
  },
  {
   "cell_type": "code",
   "execution_count": 14,
   "metadata": {},
   "outputs": [
    {
     "name": "stdout",
     "output_type": "stream",
     "text": [
      "103961.17692307693\n",
      "75708.09615384614\n",
      "40540.1423076923\n",
      "0.15\n"
     ]
    }
   ],
   "source": [
    "mean_temp=np.percentile(new_df[\"Mean\"],95)\n",
    "print(mean_temp)\n",
    "mean_temp=np.percentile(new_df[\"Mean\"],90)\n",
    "print(mean_temp)\n",
    "mean_temp=np.percentile(new_df[\"Mean\"],75)\n",
    "print(mean_temp)\n",
    "zero_temp=np.percentile(new_df[\"Zeros\"],25)\n",
    "print(zero_temp)"
   ]
  },
  {
   "cell_type": "markdown",
   "metadata": {},
   "source": [
    "##### Farmers with mean income not ranging in the 90th percentile were placed in cluster-2.  "
   ]
  },
  {
   "cell_type": "code",
   "execution_count": 12,
   "metadata": {},
   "outputs": [],
   "source": [
    "for i in range(0,1251):\n",
    "    if(new_df.loc[i,\"Eligibility\"]==1 and new_df.loc[i,\"Mean\"]<75708.09615384614):\n",
    "        new_df.at[i,\"Eligibility\"]= 2"
   ]
  },
  {
   "cell_type": "code",
   "execution_count": 13,
   "metadata": {},
   "outputs": [
    {
     "data": {
      "image/png": "[encoded data removed]",
      "text/plain": [
       "<Figure size 413.875x360 with 1 Axes>"
      ]
     },
     "metadata": {
      "needs_background": "light"
     },
     "output_type": "display_data"
    }
   ],
   "source": [
    "plot = sns.lmplot(data=new_df, x='Zeros', y='Mean', hue='Eligibility',fit_reg=False, legend=True, legend_out=True)"
   ]
  },
  {
   "cell_type": "markdown",
   "metadata": {},
   "source": [
    "##### On observing the above graph , a conclusion was made that several farmers with low income were consistent in payments. So all the farmers in the top 75 percentile with respect to their mean weekly income and mean non- payments were placed in cluster-1."
   ]
  },
  {
   "cell_type": "code",
   "execution_count": 14,
   "metadata": {},
   "outputs": [],
   "source": [
    "for i in range(0,1251):\n",
    "    if(new_df.loc[i,\"Zeros\"]<=0.15 and new_df.loc[i,\"Eligibility\"]==2 and new_df.loc[i,\"Mean\"]>40540.1423076923):\n",
    "        new_df.at[i,\"Eligibility\"]= 1"
   ]
  },
  {
   "cell_type": "code",
   "execution_count": 15,
   "metadata": {},
   "outputs": [
    {
     "data": {
      "image/png": "[encoded data removed]",
      "text/plain": [
       "<Figure size 413.875x360 with 1 Axes>"
      ]
     },
     "metadata": {
      "needs_background": "light"
     },
     "output_type": "display_data"
    }
   ],
   "source": [
    "plot = sns.lmplot(data=new_df, x='Zeros', y='Mean', hue='Eligibility',fit_reg=False, legend=True, legend_out=True)"
   ]
  },
  {
   "cell_type": "markdown",
   "metadata": {},
   "source": [
    "##### There were several farmers in cluster-0 who had high income but also high number of non-payments. Framers with number of non payments within 1.5 and in the top 5 percentile with respect to thier mean weekly income were placed in cluster-1"
   ]
  },
  {
   "cell_type": "code",
   "execution_count": 18,
   "metadata": {},
   "outputs": [],
   "source": [
    "for i in range(0,1251):\n",
    "    if(1<new_df.loc[i,\"Zeros\"]<1.5 and new_df.loc[i,\"Eligibility\"]!=2 and new_df.loc[i,\"Mean\"]>103961.17692307693):\n",
    "        new_df.at[i,\"Eligibility\"]= 1"
   ]
  },
  {
   "cell_type": "code",
   "execution_count": 19,
   "metadata": {},
   "outputs": [
    {
     "data": {
      "image/png": "[encoded data removed]",
      "text/plain": [
       "<Figure size 413.875x360 with 1 Axes>"
      ]
     },
     "metadata": {
      "needs_background": "light"
     },
     "output_type": "display_data"
    }
   ],
   "source": [
    "plot = sns.lmplot(data=new_df, x='Zeros', y='Mean', hue='Eligibility',fit_reg=False, legend=True, legend_out=True)"
   ]
  },
  {
   "cell_type": "markdown",
   "metadata": {},
   "source": [
    "##### Farmers with number of non payments exceeding 1.5 were placed in cluster-2."
   ]
  },
  {
   "cell_type": "code",
   "execution_count": 20,
   "metadata": {},
   "outputs": [],
   "source": [
    "for i in range(0,1251):\n",
    "    if(new_df.loc[i,\"Zeros\"]>1.5 and new_df.loc[i,\"Eligibility\"]!=2):\n",
    "        new_df.at[i,\"Eligibility\"]= 2"
   ]
  },
  {
   "cell_type": "code",
   "execution_count": 21,
   "metadata": {},
   "outputs": [
    {
     "data": {
      "image/png": "[encoded data removed]",
      "text/plain": [
       "<Figure size 413.875x360 with 1 Axes>"
      ]
     },
     "metadata": {
      "needs_background": "light"
     },
     "output_type": "display_data"
    }
   ],
   "source": [
    "plot = sns.lmplot(data=new_df, x='Zeros', y='Mean', hue='Eligibility',fit_reg=False, legend=True, legend_out=True)"
   ]
  },
  {
   "cell_type": "markdown",
   "metadata": {},
   "source": [
    "##### All the farmers in cluster-0 who had number of non-payments greater than 0.5 were placed in cluster-1."
   ]
  },
  {
   "cell_type": "code",
   "execution_count": 22,
   "metadata": {},
   "outputs": [],
   "source": [
    "for i in range(0,1251):\n",
    "    if(new_df.loc[i,\"Zeros\"]>0.5 and new_df.loc[i,\"Eligibility\"]==0):\n",
    "        new_df.at[i,\"Eligibility\"]= 1"
   ]
  },
  {
   "cell_type": "code",
   "execution_count": 23,
   "metadata": {},
   "outputs": [
    {
     "data": {
      "image/png": "[encoded data removed]",
      "text/plain": [
       "<Figure size 413.875x360 with 1 Axes>"
      ]
     },
     "metadata": {
      "needs_background": "light"
     },
     "output_type": "display_data"
    }
   ],
   "source": [
    "plot = sns.lmplot(data=new_df, x='Zeros', y='Mean', hue='Eligibility',fit_reg=False, legend=True, legend_out=True)"
   ]
  },
  {
   "cell_type": "markdown",
   "metadata": {},
   "source": [
    "##### Total number of eligible farmers were calculated."
   ]
  },
  {
   "cell_type": "code",
   "execution_count": 24,
   "metadata": {},
   "outputs": [
    {
     "name": "stdout",
     "output_type": "stream",
     "text": [
      "158\n"
     ]
    }
   ],
   "source": [
    "c=0\n",
    "for i in range(0,1251):\n",
    "    if(new_df.loc[i,\"Eligibility\"]== 0 or new_df.loc[i,\"Eligibility\"]== 1):\n",
    "        c=c+1\n",
    "print(c)"
   ]
  },
  {
   "cell_type": "markdown",
   "metadata": {},
   "source": [
    "##### After extensive research on the rate of interest on micorloans in India, rates were decided  for each cluster. RBI guidelines for regulation of microloans were also taken into consideration and a formula was devised for calculation of total amount of loan to be provided to each farmer."
   ]
  },
  {
   "cell_type": "code",
   "execution_count": 37,
   "metadata": {},
   "outputs": [],
   "source": [
    "li_loan=[]\n",
    "li_interest=[]\n",
    "for i in range(0,1251):\n",
    "    if(new_df.loc[i,\"Eligibility\"]==0):\n",
    "        x=(new_df.loc[i,\"Mean\"]*130)/21 #20% interest\n",
    "        li_loan.append(x)\n",
    "    elif(new_df.loc[i,\"Eligibility\"]==1):\n",
    "        x=(new_df.loc[i,\"Mean\"]*104)/17 #25% interest\n",
    "        li_loan.append(x)\n",
    "    else:\n",
    "        x= 0.0\n",
    "        li_loan.append(x)\n",
    "new_df[\"Loan\"]=li_loan"
   ]
  },
  {
   "cell_type": "markdown",
   "metadata": {},
   "source": [
    "##### List of farmers in cluster-0"
   ]
  },
  {
   "cell_type": "code",
   "execution_count": 29,
   "metadata": {},
   "outputs": [
    {
     "data": {
      "text/html": [
       "<div>\n",
       "<style scoped>\n",
       "    .dataframe tbody tr th:only-of-type {\n",
       "        vertical-align: middle;\n",
       "    }\n",
       "\n",
       "    .dataframe tbody tr th {\n",
       "        vertical-align: top;\n",
       "    }\n",
       "\n",
       "    .dataframe thead th {\n",
       "        text-align: right;\n",
       "    }\n",
       "</style>\n",
       "<table border=\"1\" class=\"dataframe\">\n",
       "  <thead>\n",
       "    <tr style=\"text-align: right;\">\n",
       "      <th></th>\n",
       "      <th>Mean</th>\n",
       "      <th>Farmer No.</th>\n",
       "      <th>Zeros</th>\n",
       "      <th>Eligibility</th>\n",
       "      <th>Loan</th>\n",
       "    </tr>\n",
       "  </thead>\n",
       "  <tbody>\n",
       "    <tr>\n",
       "      <th>219</th>\n",
       "      <td>217184.682692</td>\n",
       "      <td>223</td>\n",
       "      <td>0.000</td>\n",
       "      <td>0</td>\n",
       "      <td>1.344477e+06</td>\n",
       "    </tr>\n",
       "    <tr>\n",
       "      <th>222</th>\n",
       "      <td>150199.034615</td>\n",
       "      <td>226</td>\n",
       "      <td>0.250</td>\n",
       "      <td>0</td>\n",
       "      <td>9.298035e+05</td>\n",
       "    </tr>\n",
       "    <tr>\n",
       "      <th>246</th>\n",
       "      <td>215574.367308</td>\n",
       "      <td>250</td>\n",
       "      <td>0.000</td>\n",
       "      <td>0</td>\n",
       "      <td>1.334508e+06</td>\n",
       "    </tr>\n",
       "    <tr>\n",
       "      <th>310</th>\n",
       "      <td>209423.659615</td>\n",
       "      <td>317</td>\n",
       "      <td>0.000</td>\n",
       "      <td>0</td>\n",
       "      <td>1.296432e+06</td>\n",
       "    </tr>\n",
       "    <tr>\n",
       "      <th>344</th>\n",
       "      <td>171678.334615</td>\n",
       "      <td>352</td>\n",
       "      <td>0.325</td>\n",
       "      <td>0</td>\n",
       "      <td>1.062771e+06</td>\n",
       "    </tr>\n",
       "    <tr>\n",
       "      <th>354</th>\n",
       "      <td>195615.826923</td>\n",
       "      <td>362</td>\n",
       "      <td>0.000</td>\n",
       "      <td>0</td>\n",
       "      <td>1.210955e+06</td>\n",
       "    </tr>\n",
       "    <tr>\n",
       "      <th>357</th>\n",
       "      <td>180682.313462</td>\n",
       "      <td>365</td>\n",
       "      <td>0.375</td>\n",
       "      <td>0</td>\n",
       "      <td>1.118510e+06</td>\n",
       "    </tr>\n",
       "    <tr>\n",
       "      <th>364</th>\n",
       "      <td>153646.978846</td>\n",
       "      <td>372</td>\n",
       "      <td>0.200</td>\n",
       "      <td>0</td>\n",
       "      <td>9.511480e+05</td>\n",
       "    </tr>\n",
       "    <tr>\n",
       "      <th>432</th>\n",
       "      <td>589868.084615</td>\n",
       "      <td>440</td>\n",
       "      <td>0.000</td>\n",
       "      <td>0</td>\n",
       "      <td>3.651564e+06</td>\n",
       "    </tr>\n",
       "    <tr>\n",
       "      <th>434</th>\n",
       "      <td>462229.038462</td>\n",
       "      <td>442</td>\n",
       "      <td>0.000</td>\n",
       "      <td>0</td>\n",
       "      <td>2.861418e+06</td>\n",
       "    </tr>\n",
       "    <tr>\n",
       "      <th>553</th>\n",
       "      <td>180086.619231</td>\n",
       "      <td>563</td>\n",
       "      <td>0.000</td>\n",
       "      <td>0</td>\n",
       "      <td>1.114822e+06</td>\n",
       "    </tr>\n",
       "    <tr>\n",
       "      <th>572</th>\n",
       "      <td>319937.830769</td>\n",
       "      <td>582</td>\n",
       "      <td>0.225</td>\n",
       "      <td>0</td>\n",
       "      <td>1.980568e+06</td>\n",
       "    </tr>\n",
       "    <tr>\n",
       "      <th>680</th>\n",
       "      <td>200167.736538</td>\n",
       "      <td>693</td>\n",
       "      <td>0.000</td>\n",
       "      <td>0</td>\n",
       "      <td>1.239134e+06</td>\n",
       "    </tr>\n",
       "    <tr>\n",
       "      <th>709</th>\n",
       "      <td>459269.051923</td>\n",
       "      <td>723</td>\n",
       "      <td>0.000</td>\n",
       "      <td>0</td>\n",
       "      <td>2.843094e+06</td>\n",
       "    </tr>\n",
       "    <tr>\n",
       "      <th>759</th>\n",
       "      <td>181191.369231</td>\n",
       "      <td>774</td>\n",
       "      <td>0.325</td>\n",
       "      <td>0</td>\n",
       "      <td>1.121661e+06</td>\n",
       "    </tr>\n",
       "    <tr>\n",
       "      <th>934</th>\n",
       "      <td>312233.086538</td>\n",
       "      <td>951</td>\n",
       "      <td>0.275</td>\n",
       "      <td>0</td>\n",
       "      <td>1.932871e+06</td>\n",
       "    </tr>\n",
       "    <tr>\n",
       "      <th>966</th>\n",
       "      <td>254916.532692</td>\n",
       "      <td>984</td>\n",
       "      <td>0.450</td>\n",
       "      <td>0</td>\n",
       "      <td>1.578055e+06</td>\n",
       "    </tr>\n",
       "    <tr>\n",
       "      <th>1211</th>\n",
       "      <td>152568.082692</td>\n",
       "      <td>1235</td>\n",
       "      <td>0.000</td>\n",
       "      <td>0</td>\n",
       "      <td>9.444691e+05</td>\n",
       "    </tr>\n",
       "    <tr>\n",
       "      <th>1224</th>\n",
       "      <td>351420.040385</td>\n",
       "      <td>1248</td>\n",
       "      <td>0.225</td>\n",
       "      <td>0</td>\n",
       "      <td>2.175457e+06</td>\n",
       "    </tr>\n",
       "    <tr>\n",
       "      <th>1232</th>\n",
       "      <td>198514.511538</td>\n",
       "      <td>1257</td>\n",
       "      <td>0.125</td>\n",
       "      <td>0</td>\n",
       "      <td>1.228899e+06</td>\n",
       "    </tr>\n",
       "  </tbody>\n",
       "</table>\n",
       "</div>"
      ],
      "text/plain": [
       "               Mean  Farmer No.  Zeros  Eligibility          Loan\n",
       "219   217184.682692         223  0.000            0  1.344477e+06\n",
       "222   150199.034615         226  0.250            0  9.298035e+05\n",
       "246   215574.367308         250  0.000            0  1.334508e+06\n",
       "310   209423.659615         317  0.000            0  1.296432e+06\n",
       "344   171678.334615         352  0.325            0  1.062771e+06\n",
       "354   195615.826923         362  0.000            0  1.210955e+06\n",
       "357   180682.313462         365  0.375            0  1.118510e+06\n",
       "364   153646.978846         372  0.200            0  9.511480e+05\n",
       "432   589868.084615         440  0.000            0  3.651564e+06\n",
       "434   462229.038462         442  0.000            0  2.861418e+06\n",
       "553   180086.619231         563  0.000            0  1.114822e+06\n",
       "572   319937.830769         582  0.225            0  1.980568e+06\n",
       "680   200167.736538         693  0.000            0  1.239134e+06\n",
       "709   459269.051923         723  0.000            0  2.843094e+06\n",
       "759   181191.369231         774  0.325            0  1.121661e+06\n",
       "934   312233.086538         951  0.275            0  1.932871e+06\n",
       "966   254916.532692         984  0.450            0  1.578055e+06\n",
       "1211  152568.082692        1235  0.000            0  9.444691e+05\n",
       "1224  351420.040385        1248  0.225            0  2.175457e+06\n",
       "1232  198514.511538        1257  0.125            0  1.228899e+06"
      ]
     },
     "execution_count": 29,
     "metadata": {},
     "output_type": "execute_result"
    }
   ],
   "source": [
    "new_df.loc[new_df[\"Eligibility\"]==0]"
   ]
  },
  {
   "cell_type": "markdown",
   "metadata": {},
   "source": [
    "##### List of farmers in cluster-1"
   ]
  },
  {
   "cell_type": "code",
   "execution_count": 31,
   "metadata": {},
   "outputs": [
    {
     "data": {
      "text/html": [
       "<div>\n",
       "<style scoped>\n",
       "    .dataframe tbody tr th:only-of-type {\n",
       "        vertical-align: middle;\n",
       "    }\n",
       "\n",
       "    .dataframe tbody tr th {\n",
       "        vertical-align: top;\n",
       "    }\n",
       "\n",
       "    .dataframe thead th {\n",
       "        text-align: right;\n",
       "    }\n",
       "</style>\n",
       "<table border=\"1\" class=\"dataframe\">\n",
       "  <thead>\n",
       "    <tr style=\"text-align: right;\">\n",
       "      <th></th>\n",
       "      <th>Mean</th>\n",
       "      <th>Farmer No.</th>\n",
       "      <th>Zeros</th>\n",
       "      <th>Eligibility</th>\n",
       "      <th>Loan</th>\n",
       "    </tr>\n",
       "  </thead>\n",
       "  <tbody>\n",
       "    <tr>\n",
       "      <th>3</th>\n",
       "      <td>87371.017308</td>\n",
       "      <td>4</td>\n",
       "      <td>0.150</td>\n",
       "      <td>1</td>\n",
       "      <td>5.345050e+05</td>\n",
       "    </tr>\n",
       "    <tr>\n",
       "      <th>22</th>\n",
       "      <td>103692.380769</td>\n",
       "      <td>23</td>\n",
       "      <td>0.000</td>\n",
       "      <td>1</td>\n",
       "      <td>6.343534e+05</td>\n",
       "    </tr>\n",
       "    <tr>\n",
       "      <th>28</th>\n",
       "      <td>114496.351923</td>\n",
       "      <td>29</td>\n",
       "      <td>1.125</td>\n",
       "      <td>1</td>\n",
       "      <td>7.004483e+05</td>\n",
       "    </tr>\n",
       "    <tr>\n",
       "      <th>29</th>\n",
       "      <td>347950.855769</td>\n",
       "      <td>30</td>\n",
       "      <td>1.075</td>\n",
       "      <td>1</td>\n",
       "      <td>2.128641e+06</td>\n",
       "    </tr>\n",
       "    <tr>\n",
       "      <th>31</th>\n",
       "      <td>223150.571154</td>\n",
       "      <td>32</td>\n",
       "      <td>0.875</td>\n",
       "      <td>1</td>\n",
       "      <td>1.365156e+06</td>\n",
       "    </tr>\n",
       "    <tr>\n",
       "      <th>...</th>\n",
       "      <td>...</td>\n",
       "      <td>...</td>\n",
       "      <td>...</td>\n",
       "      <td>...</td>\n",
       "      <td>...</td>\n",
       "    </tr>\n",
       "    <tr>\n",
       "      <th>1201</th>\n",
       "      <td>48924.921154</td>\n",
       "      <td>1225</td>\n",
       "      <td>0.000</td>\n",
       "      <td>1</td>\n",
       "      <td>2.993054e+05</td>\n",
       "    </tr>\n",
       "    <tr>\n",
       "      <th>1207</th>\n",
       "      <td>41306.955769</td>\n",
       "      <td>1231</td>\n",
       "      <td>0.000</td>\n",
       "      <td>1</td>\n",
       "      <td>2.527014e+05</td>\n",
       "    </tr>\n",
       "    <tr>\n",
       "      <th>1228</th>\n",
       "      <td>155330.971154</td>\n",
       "      <td>1252</td>\n",
       "      <td>0.600</td>\n",
       "      <td>1</td>\n",
       "      <td>9.502601e+05</td>\n",
       "    </tr>\n",
       "    <tr>\n",
       "      <th>1240</th>\n",
       "      <td>77280.217308</td>\n",
       "      <td>1265</td>\n",
       "      <td>0.225</td>\n",
       "      <td>1</td>\n",
       "      <td>4.727731e+05</td>\n",
       "    </tr>\n",
       "    <tr>\n",
       "      <th>1243</th>\n",
       "      <td>90887.057692</td>\n",
       "      <td>1268</td>\n",
       "      <td>0.925</td>\n",
       "      <td>1</td>\n",
       "      <td>5.560149e+05</td>\n",
       "    </tr>\n",
       "  </tbody>\n",
       "</table>\n",
       "<p>138 rows × 5 columns</p>\n",
       "</div>"
      ],
      "text/plain": [
       "               Mean  Farmer No.  Zeros  Eligibility          Loan\n",
       "3      87371.017308           4  0.150            1  5.345050e+05\n",
       "22    103692.380769          23  0.000            1  6.343534e+05\n",
       "28    114496.351923          29  1.125            1  7.004483e+05\n",
       "29    347950.855769          30  1.075            1  2.128641e+06\n",
       "31    223150.571154          32  0.875            1  1.365156e+06\n",
       "...             ...         ...    ...          ...           ...\n",
       "1201   48924.921154        1225  0.000            1  2.993054e+05\n",
       "1207   41306.955769        1231  0.000            1  2.527014e+05\n",
       "1228  155330.971154        1252  0.600            1  9.502601e+05\n",
       "1240   77280.217308        1265  0.225            1  4.727731e+05\n",
       "1243   90887.057692        1268  0.925            1  5.560149e+05\n",
       "\n",
       "[138 rows x 5 columns]"
      ]
     },
     "execution_count": 31,
     "metadata": {},
     "output_type": "execute_result"
    }
   ],
   "source": [
    "new_df.loc[new_df[\"Eligibility\"]==1]"
   ]
  },
  {
   "cell_type": "markdown",
   "metadata": {},
   "source": [
    "##### If the bank were to give out loans to even the ineligible farmers, the interest rates can be increased."
   ]
  },
  {
   "cell_type": "markdown",
   "metadata": {},
   "source": [
    "#####  0 rate of interest 20% 1 rate of interest 25% 2 rate of interest 27.5%\n",
    "\n"
   ]
  },
  {
   "cell_type": "code",
   "execution_count": 38,
   "metadata": {},
   "outputs": [],
   "source": [
    "li_loan=[]\n",
    "li_interest=[]\n",
    "for i in range(0,1251):\n",
    "    if(new_df.loc[i,\"Eligibility\"]==0):\n",
    "        x=(new_df.loc[i,\"Mean\"]*130)/21\n",
    "        li_loan.append(x)\n",
    "    elif(new_df.loc[i,\"Eligibility\"]==1):\n",
    "        x=(new_df.loc[i,\"Mean\"]*104)/17\n",
    "        li_loan.append(x)\n",
    "    else:\n",
    "        x=(new_df.loc[i,\"Mean\"]*1040)/171\n",
    "        li_loan.append(x)\n",
    "new_df[\"loan\"]=li_loan"
   ]
  },
  {
   "cell_type": "markdown",
   "metadata": {},
   "source": [
    "##### Revised list of all the farmers."
   ]
  },
  {
   "cell_type": "code",
   "execution_count": 39,
   "metadata": {},
   "outputs": [
    {
     "data": {
      "text/html": [
       "<div>\n",
       "<style scoped>\n",
       "    .dataframe tbody tr th:only-of-type {\n",
       "        vertical-align: middle;\n",
       "    }\n",
       "\n",
       "    .dataframe tbody tr th {\n",
       "        vertical-align: top;\n",
       "    }\n",
       "\n",
       "    .dataframe thead th {\n",
       "        text-align: right;\n",
       "    }\n",
       "</style>\n",
       "<table border=\"1\" class=\"dataframe\">\n",
       "  <thead>\n",
       "    <tr style=\"text-align: right;\">\n",
       "      <th></th>\n",
       "      <th>Mean</th>\n",
       "      <th>Farmer No.</th>\n",
       "      <th>Zeros</th>\n",
       "      <th>Eligibility</th>\n",
       "      <th>loan</th>\n",
       "    </tr>\n",
       "  </thead>\n",
       "  <tbody>\n",
       "    <tr>\n",
       "      <th>0</th>\n",
       "      <td>9181.186538</td>\n",
       "      <td>1</td>\n",
       "      <td>6.650</td>\n",
       "      <td>2</td>\n",
       "      <td>55838.795322</td>\n",
       "    </tr>\n",
       "    <tr>\n",
       "      <th>1</th>\n",
       "      <td>11496.648077</td>\n",
       "      <td>2</td>\n",
       "      <td>1.875</td>\n",
       "      <td>2</td>\n",
       "      <td>69921.134503</td>\n",
       "    </tr>\n",
       "    <tr>\n",
       "      <th>2</th>\n",
       "      <td>8015.492308</td>\n",
       "      <td>3</td>\n",
       "      <td>1.925</td>\n",
       "      <td>2</td>\n",
       "      <td>48749.192982</td>\n",
       "    </tr>\n",
       "    <tr>\n",
       "      <th>3</th>\n",
       "      <td>87371.017308</td>\n",
       "      <td>4</td>\n",
       "      <td>0.150</td>\n",
       "      <td>1</td>\n",
       "      <td>534505.047059</td>\n",
       "    </tr>\n",
       "    <tr>\n",
       "      <th>4</th>\n",
       "      <td>1356.207692</td>\n",
       "      <td>5</td>\n",
       "      <td>2.475</td>\n",
       "      <td>2</td>\n",
       "      <td>8248.280702</td>\n",
       "    </tr>\n",
       "    <tr>\n",
       "      <th>...</th>\n",
       "      <td>...</td>\n",
       "      <td>...</td>\n",
       "      <td>...</td>\n",
       "      <td>...</td>\n",
       "      <td>...</td>\n",
       "    </tr>\n",
       "    <tr>\n",
       "      <th>1246</th>\n",
       "      <td>1540.178846</td>\n",
       "      <td>1271</td>\n",
       "      <td>4.900</td>\n",
       "      <td>2</td>\n",
       "      <td>9367.169591</td>\n",
       "    </tr>\n",
       "    <tr>\n",
       "      <th>1247</th>\n",
       "      <td>39650.913462</td>\n",
       "      <td>1272</td>\n",
       "      <td>0.275</td>\n",
       "      <td>2</td>\n",
       "      <td>241151.754386</td>\n",
       "    </tr>\n",
       "    <tr>\n",
       "      <th>1248</th>\n",
       "      <td>11140.801923</td>\n",
       "      <td>1273</td>\n",
       "      <td>5.000</td>\n",
       "      <td>2</td>\n",
       "      <td>67756.923977</td>\n",
       "    </tr>\n",
       "    <tr>\n",
       "      <th>1249</th>\n",
       "      <td>2619.236538</td>\n",
       "      <td>1274</td>\n",
       "      <td>9.850</td>\n",
       "      <td>2</td>\n",
       "      <td>15929.859649</td>\n",
       "    </tr>\n",
       "    <tr>\n",
       "      <th>1250</th>\n",
       "      <td>75733.851923</td>\n",
       "      <td>1275</td>\n",
       "      <td>2.475</td>\n",
       "      <td>2</td>\n",
       "      <td>460603.543860</td>\n",
       "    </tr>\n",
       "  </tbody>\n",
       "</table>\n",
       "<p>1251 rows × 5 columns</p>\n",
       "</div>"
      ],
      "text/plain": [
       "              Mean  Farmer No.  Zeros  Eligibility           loan\n",
       "0      9181.186538           1  6.650            2   55838.795322\n",
       "1     11496.648077           2  1.875            2   69921.134503\n",
       "2      8015.492308           3  1.925            2   48749.192982\n",
       "3     87371.017308           4  0.150            1  534505.047059\n",
       "4      1356.207692           5  2.475            2    8248.280702\n",
       "...            ...         ...    ...          ...            ...\n",
       "1246   1540.178846        1271  4.900            2    9367.169591\n",
       "1247  39650.913462        1272  0.275            2  241151.754386\n",
       "1248  11140.801923        1273  5.000            2   67756.923977\n",
       "1249   2619.236538        1274  9.850            2   15929.859649\n",
       "1250  75733.851923        1275  2.475            2  460603.543860\n",
       "\n",
       "[1251 rows x 5 columns]"
      ]
     },
     "execution_count": 39,
     "metadata": {},
     "output_type": "execute_result"
    }
   ],
   "source": [
    "new_df.drop(\"Loan\",inplace = True,axis = 1)\n",
    "new_df"
   ]
  },
  {
   "cell_type": "markdown",
   "metadata": {},
   "source": [
    "##### A pie chart for representation of eligible and ineligible farmers."
   ]
  },
  {
   "cell_type": "code",
   "execution_count": 41,
   "metadata": {},
   "outputs": [],
   "source": [
    "c0=0\n",
    "for i in range(0,1251):\n",
    "    if(new_df.loc[i,\"Eligibility\"]== 0 or new_df.loc[i,\"Eligibility\"]==1):\n",
    "        c0=c0+1\n",
    "c2=0\n",
    "for i in range(0,1251):\n",
    "    if(new_df.loc[i,\"Eligibility\"]== 2):\n",
    "        c2=c2+1\n",
    "slices = [c0,c2]"
   ]
  },
  {
   "cell_type": "code",
   "execution_count": 42,
   "metadata": {},
   "outputs": [
    {
     "data": {
      "image/png": "[encoded data removed]",
      "text/plain": [
       "<Figure size 432x288 with 1 Axes>"
      ]
     },
     "metadata": {},
     "output_type": "display_data"
    }
   ],
   "source": [
    "colors = ['g', 'r']\n",
    "plt.pie(slices, labels = ['Eligible','Non-Eligible'], colors=colors, startangle=90,autopct = '%1.1f%%')\n",
    "plt.show()"
   ]
  },
  {
   "cell_type": "markdown",
   "metadata": {},
   "source": [
    "##### A pie chart for representation of ideal farmers ,risky farmers and ineligble farmers."
   ]
  },
  {
   "cell_type": "code",
   "execution_count": 43,
   "metadata": {},
   "outputs": [
    {
     "data": {
      "image/png": "[encoded data removed]",
      "text/plain": [
       "<Figure size 432x288 with 1 Axes>"
      ]
     },
     "metadata": {},
     "output_type": "display_data"
    }
   ],
   "source": [
    "c1 = 0\n",
    "for i in range(0,1251):\n",
    "    if(new_df.loc[i,\"Eligibility\"]== 1):\n",
    "        c1=c1+1\n",
    "c00 = 0\n",
    "for i in range(0,1251):\n",
    "    if(new_df.loc[i,\"Eligibility\"]== 0):\n",
    "        c00=c00+1\n",
    "slices = [c00,c1,c2]\n",
    "colors = ['g', 'y','r']\n",
    "plt.pie(slices, labels = ['Ideal','Risky','Ineligible'], colors=colors, startangle=90,autopct = '%1.1f%%')\n",
    "plt.show()"
   ]
  },
  {
   "cell_type": "markdown",
   "metadata": {},
   "source": [
    "##### Number of eligible , risky and ideal farmers respectively"
   ]
  },
  {
   "cell_type": "code",
   "execution_count": 35,
   "metadata": {},
   "outputs": [
    {
     "name": "stdout",
     "output_type": "stream",
     "text": [
      "158\n",
      "138\n",
      "20\n"
     ]
    }
   ],
   "source": [
    "print(c0)\n",
    "print(c1)\n",
    "print(c00)"
   ]
  },
  {
   "cell_type": "code",
   "execution_count": 44,
   "metadata": {},
   "outputs": [],
   "source": [
    "new_temp.to_csv('Revised_farmers.csv')"
   ]
  },
  {
   "cell_type": "code",
   "execution_count": null,
   "metadata": {},
   "outputs": [],
   "source": []
  }
 ],
 "metadata": {
  "kernelspec": {
   "display_name": "Python 3",
   "language": "python",
   "name": "python3"
  },
  "language_info": {
   "codemirror_mode": {
    "name": "ipython",
    "version": 3
   },
   "file_extension": ".py",
   "mimetype": "text/x-python",
   "name": "python",
   "nbconvert_exporter": "python",
   "pygments_lexer": "ipython3",
   "version": "3.8.5"
  }
 },
 "nbformat": 4,
 "nbformat_minor": 4
}
